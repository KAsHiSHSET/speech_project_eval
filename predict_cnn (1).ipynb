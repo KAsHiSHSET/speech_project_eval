{
 "cells": [
  {
   "cell_type": "code",
   "execution_count": 1,
   "id": "d70d09ce",
   "metadata": {},
   "outputs": [],
   "source": [
    "import scipy\n",
    "import librosa\n",
    "import numpy as np\n",
    "import noisereduce as nr\n",
    "from tensorflow.keras.models import load_model"
   ]
  },
  {
   "cell_type": "code",
   "execution_count": 2,
   "id": "788dfd8d",
   "metadata": {},
   "outputs": [],
   "source": [
    "model = load_model('../assets/cnn_model.keras')"
   ]
  },
  {
   "cell_type": "code",
   "execution_count": 3,
   "id": "bed9183f",
   "metadata": {},
   "outputs": [],
   "source": [
    "def extract_plp(y, sr, numcep=13):\n",
    "    emphasized = np.append(y[0], y[1:] - 0.97 * y[:-1])\n",
    "    frame_length = int(0.025 * sr)\n",
    "    frame_step = int(0.01 * sr)\n",
    "    frames = librosa.util.frame(emphasized, frame_length=frame_length, hop_length=frame_step).T.copy()\n",
    "    frames *= np.hamming(frame_length)\n",
    "    \n",
    "    NFFT = 512\n",
    "    mag_frames = np.absolute(np.fft.rfft(frames, NFFT))\n",
    "    pow_frames = (1.0 / NFFT) * (mag_frames ** 2)\n",
    "\n",
    "    nfilt = 40\n",
    "    mel_filters = librosa.filters.mel(sr=sr, n_fft=NFFT, n_mels=nfilt)\n",
    "    mel_energy = np.dot(pow_frames, mel_filters.T)\n",
    "    mel_energy = np.where(mel_energy == 0, np.finfo(float).eps, mel_energy)\n",
    "    \n",
    "    log_mel_energy = np.log(mel_energy)\n",
    "    plp = scipy.fftpack.dct(log_mel_energy, type=2, axis=1, norm='ortho')[:, :numcep]\n",
    "    \n",
    "    return plp"
   ]
  },
  {
   "cell_type": "code",
   "execution_count": 4,
   "id": "849b67b7",
   "metadata": {},
   "outputs": [],
   "source": [
    "def preprocess_audio(audio_path, n_mfcc, n_plp, window_size):\n",
    "    y, sr = librosa.load(audio_path, sr=None)\n",
    "    y, _ = librosa.effects.trim(y)\n",
    "    y = nr.reduce_noise(y=y, sr=sr)\n",
    "    y = librosa.util.normalize(y)\n",
    "\n",
    "    window_length = window_size * sr\n",
    "    total_length = len(y)\n",
    "\n",
    "    feature_list = []\n",
    "\n",
    "    for start in range(0, total_length, window_length):\n",
    "        end = start + window_length\n",
    "        if end > total_length:\n",
    "            break\n",
    "\n",
    "        window = y[start:end]\n",
    "\n",
    "        mfcc = librosa.feature.mfcc(y=window, sr=sr, n_mfcc=n_mfcc).T\n",
    "\n",
    "        plp = extract_plp(window, sr, numcep=n_plp)\n",
    "\n",
    "        min_frames = min(mfcc.shape[0], plp.shape[0])\n",
    "        mfcc = mfcc[:min_frames, :]\n",
    "        plp = plp[:min_frames, :]\n",
    "\n",
    "        combined = np.concatenate((mfcc, plp), axis=1)\n",
    "        combined = combined[..., np.newaxis]\n",
    "\n",
    "        feature_list.append(combined)\n",
    "\n",
    "    return np.array(feature_list)\n"
   ]
  },
  {
   "cell_type": "code",
   "execution_count": 5,
   "id": "9f07c110",
   "metadata": {},
   "outputs": [],
   "source": [
    "audio_path = '../test_audio/440_AUDIO.wav'\n",
    "mfcc_plp_windows = preprocess_audio(audio_path, n_mfcc=13, n_plp=13, window_size=5)"
   ]
  },
  {
   "cell_type": "code",
   "execution_count": 6,
   "id": "5d12e31b",
   "metadata": {},
   "outputs": [
    {
     "name": "stdout",
     "output_type": "stream",
     "text": [
      "\u001b[1m9/9\u001b[0m \u001b[32m━━━━━━━━━━━━━━━━━━━━\u001b[0m\u001b[37m\u001b[0m \u001b[1m0s\u001b[0m 15ms/step\n",
      "The person is likely to be not depressed.\n"
     ]
    }
   ],
   "source": [
    "predictions = model.predict(mfcc_plp_windows)\n",
    "final_prediction = np.round(np.mean(predictions))\n",
    "\n",
    "if (final_prediction == 1):\n",
    "    print(\"The person is likely to be depressed.\")\n",
    "else:\n",
    "    print(\"The person is likely to be not depressed.\")"
   ]
  }
 ],
 "metadata": {
  "kernelspec": {
   "display_name": ".venv",
   "language": "python",
   "name": "python3"
  },
  "language_info": {
   "codemirror_mode": {
    "name": "ipython",
    "version": 3
   },
   "file_extension": ".py",
   "mimetype": "text/x-python",
   "name": "python",
   "nbconvert_exporter": "python",
   "pygments_lexer": "ipython3",
   "version": "3.11.9"
  }
 },
 "nbformat": 4,
 "nbformat_minor": 5
}

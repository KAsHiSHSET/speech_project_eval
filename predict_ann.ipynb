{
 "cells": [
  {
   "cell_type": "code",
   "execution_count": 1,
   "id": "66650dbb",
   "metadata": {},
   "outputs": [],
   "source": [
    "import scipy\n",
    "import joblib\n",
    "import librosa\n",
    "import numpy as np\n",
    "import noisereduce as nr\n",
    "from tensorflow.keras.models import load_model"
   ]
  },
  {
   "cell_type": "markdown",
   "id": "c296090b",
   "metadata": {},
   "source": [
    "Load assets"
   ]
  },
  {
   "cell_type": "code",
   "execution_count": 2,
   "id": "e2e97075",
   "metadata": {},
   "outputs": [],
   "source": [
    "scaler = joblib.load('../assets/scaler.pkl')\n",
    "model = load_model('../assets/ann_model.keras')"
   ]
  },
  {
   "cell_type": "markdown",
   "id": "b225f84c",
   "metadata": {},
   "source": [
    "Convert to MFCC & PLP features"
   ]
  },
  {
   "cell_type": "code",
   "execution_count": 3,
   "id": "4eeaefe5",
   "metadata": {},
   "outputs": [],
   "source": [
    "def extract_plp(y, sr, numcep=13):\n",
    "    emphasized = np.append(y[0], y[1:] - 0.97 * y[:-1])\n",
    "    frame_length = int(0.025 * sr)\n",
    "    frame_step = int(0.01 * sr)\n",
    "    frames = librosa.util.frame(emphasized, frame_length=frame_length, hop_length=frame_step).T.copy()\n",
    "    frames *= np.hamming(frame_length)\n",
    "    \n",
    "    NFFT = 512\n",
    "    mag_frames = np.absolute(np.fft.rfft(frames, NFFT))\n",
    "    pow_frames = (1.0 / NFFT) * (mag_frames ** 2)\n",
    "\n",
    "    nfilt = 40\n",
    "    mel_filters = librosa.filters.mel(sr=sr, n_fft=NFFT, n_mels=nfilt)\n",
    "    mel_energy = np.dot(pow_frames, mel_filters.T)\n",
    "    mel_energy = np.where(mel_energy == 0, np.finfo(float).eps, mel_energy)\n",
    "    \n",
    "    log_mel_energy = np.log(mel_energy)\n",
    "    plp = scipy.fftpack.dct(log_mel_energy, type=2, axis=1, norm='ortho')[:, :numcep]\n",
    "    return np.mean(plp, axis=0)"
   ]
  },
  {
   "cell_type": "code",
   "execution_count": 4,
   "id": "739fe19e",
   "metadata": {},
   "outputs": [],
   "source": [
    "file_path = '../test_audio/440_AUDIO.wav'\n",
    "\n",
    "y, sr = librosa.load(file_path, sr=None)\n",
    "y, _ = librosa.effects.trim(y)\n",
    "y = nr.reduce_noise(y=y, sr=sr)\n",
    "y = librosa.util.normalize(y)\n",
    "\n",
    "mfcc = librosa.feature.mfcc(y=y, sr=sr, n_mfcc=13)\n",
    "mfcc_mean = np.mean(mfcc, axis=1)\n",
    "\n",
    "plp_mean = extract_plp(y, sr, numcep=13)\n",
    "\n",
    "combined = np.concatenate((mfcc_mean, plp_mean)).reshape(1, -1)\n",
    "\n",
    "combined_scaled = scaler.transform(combined)"
   ]
  },
  {
   "cell_type": "markdown",
   "id": "b6fbff55",
   "metadata": {},
   "source": [
    "Predict depression label"
   ]
  },
  {
   "cell_type": "code",
   "execution_count": 5,
   "id": "a21d75fd",
   "metadata": {},
   "outputs": [
    {
     "name": "stdout",
     "output_type": "stream",
     "text": [
      "\u001b[1m1/1\u001b[0m \u001b[32m━━━━━━━━━━━━━━━━━━━━\u001b[0m\u001b[37m\u001b[0m \u001b[1m0s\u001b[0m 81ms/step\n",
      "The person is likely to be not depressed.\n"
     ]
    }
   ],
   "source": [
    "prediction = model.predict(combined_scaled)\n",
    "\n",
    "if (prediction[0][0] > 0.5):\n",
    "    print(\"The person is likely to be depressed.\")\n",
    "else:\n",
    "    print(\"The person is likely to be not depressed.\")"
   ]
  }
 ],
 "metadata": {
  "kernelspec": {
   "display_name": ".venv",
   "language": "python",
   "name": "python3"
  },
  "language_info": {
   "codemirror_mode": {
    "name": "ipython",
    "version": 3
   },
   "file_extension": ".py",
   "mimetype": "text/x-python",
   "name": "python",
   "nbconvert_exporter": "python",
   "pygments_lexer": "ipython3",
   "version": "3.11.9"
  }
 },
 "nbformat": 4,
 "nbformat_minor": 5
}
